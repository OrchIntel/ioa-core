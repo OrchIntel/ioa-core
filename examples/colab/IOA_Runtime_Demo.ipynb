{
 "cells": [
  {
   "cell_type": "code",
   "execution_count": null,
   "metadata": {
    "id": "install_ioa_core"
   },
   "outputs": [],
   "source": [
    "# Install IOA Core from GitHub (no version pin)\n",
    "%pip install --quiet --upgrade pip\n",
    "%pip install --quiet \"git+https://github.com/OrchIntel/ioa-core@main#egg=ioa-core\"\n",
    "\n",
    "# Fallback with environment override\n",
    "import os, subprocess, sys\n",
    "PIP_SPEC = os.getenv(\"IOA_PIP_SPEC\", \"git+https://github.com/OrchIntel/ioa-core@main#egg=ioa-core\")\n",
    "subprocess.check_call([sys.executable, \"-m\", \"pip\", \"install\", \"--quiet\", PIP_SPEC])\n",
    "print(\"Installed IOA Core from:\", PIP_SPEC)"
   ]
  },
  {
   "cell_type": "code",
   "execution_count": null,
   "metadata": {
    "id": "env_setup"
   },
   "outputs": [],
   "source": [
    "# Environment setup & configuration\n",
    "import os\n",
    "import requests\n",
    "import json\n",
    "\n",
    "IOA_CLOUD_URL = os.getenv(\"IOA_CLOUD_URL\", \"http://localhost:8000\")  # override in Colab to tunnel/public URL\n",
    "IOA_CLOUD_API_KEY = os.getenv(\"IOA_CLOUD_API_KEY\", \"\")\n",
    "\n",
    "print(\"IOA_CLOUD_URL:\", IOA_CLOUD_URL)\n",
    "print(\"API key set?\", bool(IOA_CLOUD_API_KEY))"
   ]
  },
  {
   "cell_type": "code",
   "execution_count": null,
   "metadata": {
    "id": "preflight_call"
   },
   "outputs": [],
   "source": [
    "# Simple pre-flight call to /governed/chat\n",
    "try:\n",
    "    headers = {\"Authorization\": f\"Bearer {IOA_CLOUD_API_KEY}\"} if IOA_CLOUD_API_KEY else {}\n",
    "    \n",
    "    response = requests.post(\n",
    "        f\"{IOA_CLOUD_URL}/governed/chat\",\n",
    "        json={\n",
    "            \"prompt\": \"Hello, this is a test message for IOA governance.\",\n",
    "            \"context\": {\"user_id\": \"demo_user\", \"test\": True}\n",
    "        },\n",
    "        headers=headers,\n",
    "        timeout=60\n",
    "    )\n",
    "    \n",
    "    print(\"✅ Pre-flight call successful!\")\n",
    "    print(f\"Status Code: {response.status_code}\")\n",
    "    print(\"Response:\")\n",
    "    print(json.dumps(response.json(), indent=2))\n",
    "    \n",
    "except requests.exceptions.RequestException as e:\n",
    "    print(f\"❌ Pre-flight call failed: {e}\")\n",
    "    print(\"💡 Make sure IOA_CLOUD_URL and IOA_CLOUD_API_KEY are set correctly\")"
   ]
  },
  {
   "cell_type": "code",
   "execution_count": null,
   "metadata": {
    "id": "fetch_evidence"
   },
   "outputs": [],
   "source": [
    "# Fetch evidence from /bundles/{id} and print available keys\n",
    "try:\n",
    "    # For demo purposes, we'll try to fetch a sample evidence bundle\n",
    "    # In a real scenario, you'd get the evidence_id from the previous response\n",
    "    evidence_id = \"demo_evidence_123\"  # This would come from the chat response\n",
    "    \n",
    "    headers = {\"Authorization\": f\"Bearer {IOA_CLOUD_API_KEY}\"} if IOA_CLOUD_API_KEY else {}\n",
    "    \n",
    "    response = requests.get(\n",
    "        f\"{IOA_CLOUD_URL}/bundles/{evidence_id}\",\n",
    "        headers=headers,\n",
    "        timeout=60\n",
    "    )\n",
    "    \n",
    "    if response.status_code == 200:\n",
    "        evidence_bundle = response.json()\n",
    "        print(\"✅ Evidence bundle fetched successfully!\")\n",
    "        print(f\"Bundle ID: {evidence_bundle.get('bundle_id', 'N/A')}\")\n",
    "        print(\"Available keys:\")\n",
    "        for key in evidence_bundle.keys():\n",
    "            print(f\"  - {key}\")\n",
    "        print(\"\\nEvidence bundle:\")\n",
    "        print(json.dumps(evidence_bundle, indent=2))\n",
    "    else:\n",
    "        print(f\"⚠️ Evidence bundle not found (status: {response.status_code})\")\n",
    "        print(\"This is expected for demo purposes - evidence_id is placeholder\")\n",
    "        \n",
    "except requests.exceptions.RequestException as e:\n",
    "    print(f\"❌ Evidence fetch failed: {e}\")\n",
    "    print(\"💡 This is expected if IOA Cloud is not running or accessible\")\n",
    "\n",
    "print(\"\\n🎉 IOA Runtime Demo Complete!\")\n",
    "print(\"📚 Learn more at: https://github.com/OrchIntel/ioa-core\")"
   ]
  }
 ],
 "metadata": {
  "colab": {
   "collapsed_sections": [],
   "name": "IOA_Runtime_Demo.ipynb",
   "provenance": []
  },
  "kernelspec": {
   "display_name": "Python 3",
   "name": "python3"
  },
  "language_info": {
   "name": "python"
  }
 },
 "nbformat": 4,
 "nbformat_minor": 5
}
